{
  "nbformat": 4,
  "nbformat_minor": 0,
  "metadata": {
    "colab": {
      "provenance": [],
      "authorship_tag": "ABX9TyMOhvfOCa0VNTqHRBVaOqeM",
      "include_colab_link": true
    },
    "kernelspec": {
      "name": "python3",
      "display_name": "Python 3"
    },
    "language_info": {
      "name": "python"
    }
  },
  "cells": [
    {
      "cell_type": "markdown",
      "metadata": {
        "id": "view-in-github",
        "colab_type": "text"
      },
      "source": [
        "<a href=\"https://colab.research.google.com/github/dhanushkodi45rS/Student-Record-System/blob/main/StudentRecord.ipynb\" target=\"_parent\"><img src=\"https://colab.research.google.com/assets/colab-badge.svg\" alt=\"Open In Colab\"/></a>"
      ]
    },
    {
      "cell_type": "markdown",
      "source": [
        "**Student Record System**"
      ],
      "metadata": {
        "id": "4LibJixPKWyx"
      }
    },
    {
      "cell_type": "code",
      "source": [
        "students = []\n",
        "#function to add students\n",
        "def add_student():\n",
        "  name = input(\"Enter the Student Name: \")\n",
        "  marks = float(input(\"Enter the Student Marks: \"))\n",
        "  students.append({\"name\": name, \"marks\": marks})\n",
        "  print(\"Student Added Successfully!\\n\")"
      ],
      "metadata": {
        "id": "8lhZEwbJScnC"
      },
      "execution_count": null,
      "outputs": []
    },
    {
      "cell_type": "code",
      "execution_count": null,
      "metadata": {
        "colab": {
          "base_uri": "https://localhost:8080/"
        },
        "collapsed": true,
        "id": "_c8uxV8WKVcp",
        "outputId": "ae2ee171-fdcb-420a-db4d-d08348b6c23a"
      },
      "outputs": [
        {
          "output_type": "stream",
          "name": "stdout",
          "text": [
            "Student Record System\n",
            "1. Add Student\n",
            "2. Display All Students\n",
            "3. Search Student by Name\n",
            "4. Find Topper\n",
            "5. Exit\n",
            "Enter Your Choice (1-5): 1\n",
            "Enter the Student Name: Kodi\n",
            "Enter the Student Marks: 90\n",
            "Student Added Successfully!\n",
            "\n",
            "Student Record System\n",
            "1. Add Student\n",
            "2. Display All Students\n",
            "3. Search Student by Name\n",
            "4. Find Topper\n",
            "5. Exit\n",
            "Enter Your Choice (1-5): 1\n",
            "Enter the Student Name: sura\n",
            "Enter the Student Marks: 89\n",
            "Student Added Successfully!\n",
            "\n",
            "Student Record System\n",
            "1. Add Student\n",
            "2. Display All Students\n",
            "3. Search Student by Name\n",
            "4. Find Topper\n",
            "5. Exit\n",
            "Enter Your Choice (1-5): 1\n",
            "Enter the Student Name: Luffy\n",
            "Enter the Student Marks: 67\n",
            "Student Added Successfully!\n",
            "\n",
            "Student Record System\n",
            "1. Add Student\n",
            "2. Display All Students\n",
            "3. Search Student by Name\n",
            "4. Find Topper\n",
            "5. Exit\n",
            "Enter Your Choice (1-5): Zoro\n",
            "Invalid Choice. Please try again.\n",
            "\n",
            "Student Record System\n",
            "1. Add Student\n",
            "2. Display All Students\n",
            "3. Search Student by Name\n",
            "4. Find Topper\n",
            "5. Exit\n",
            "Enter Your Choice (1-5): 1\n",
            "Enter the Student Name: Zoro\n",
            "Enter the Student Marks: 56\n",
            "Student Added Successfully!\n",
            "\n",
            "Student Record System\n",
            "1. Add Student\n",
            "2. Display All Students\n",
            "3. Search Student by Name\n",
            "4. Find Topper\n",
            "5. Exit\n",
            "Enter Your Choice (1-5): 1\n",
            "Enter the Student Name: Sanji\n",
            "Enter the Student Marks: 98\n",
            "Student Added Successfully!\n",
            "\n",
            "Student Record System\n",
            "1. Add Student\n",
            "2. Display All Students\n",
            "3. Search Student by Name\n",
            "4. Find Topper\n",
            "5. Exit\n",
            "Enter Your Choice (1-5): 1\n",
            "Enter the Student Name: Robin\n",
            "Enter the Student Marks: 99\n",
            "Student Added Successfully!\n",
            "\n",
            "Student Record System\n",
            "1. Add Student\n",
            "2. Display All Students\n",
            "3. Search Student by Name\n",
            "4. Find Topper\n",
            "5. Exit\n",
            "Enter Your Choice (1-5): 2\n",
            "All Student Records: \n",
            "Name: Kodi, Marks: 90.0\n",
            "Name: sura, Marks: 89.0\n",
            "Name: Luffy, Marks: 67.0\n",
            "Name: Zoro, Marks: 56.0\n",
            "Name: Sanji, Marks: 98.0\n",
            "Name: Robin, Marks: 99.0\n",
            "\n",
            "Student Record System\n",
            "1. Add Student\n",
            "2. Display All Students\n",
            "3. Search Student by Name\n",
            "4. Find Topper\n",
            "5. Exit\n",
            "Enter Your Choice (1-5): 4\n",
            " Topper: Robin with 99.0 Marks.\n",
            "\n",
            "Student Record System\n",
            "1. Add Student\n",
            "2. Display All Students\n",
            "3. Search Student by Name\n",
            "4. Find Topper\n",
            "5. Exit\n",
            "Enter Your Choice (1-5): 3\n",
            "Enter the student to search:Zoro\n",
            "Found: Name: Zoro, Marks: 56.0\n",
            "\n",
            "Student Record System\n",
            "1. Add Student\n",
            "2. Display All Students\n",
            "3. Search Student by Name\n",
            "4. Find Topper\n",
            "5. Exit\n",
            "Enter Your Choice (1-5): 5\n",
            "Exiting ... goodbye!!\n"
          ]
        }
      ],
      "source": [
        "#function to display all students\n",
        "def display_student():\n",
        "  if not students:\n",
        "    print(\"No Student Record Found.\")\n",
        "    return\n",
        "  print(\"All Student Records: \")\n",
        "  for s in students:\n",
        "    print(f\"Name: {s['name']}, Marks: {s['marks']}\")\n",
        "  print()\n",
        "\n",
        "#function to search student\n",
        "def search_student():\n",
        "  search_name = input(\"Enter the student to search:\")\n",
        "  found = False\n",
        "  for s in students:\n",
        "    if s[\"name\"].lower() == search_name.lower():\n",
        "      print(f\"Found: Name: {s['name']}, Marks: {s['marks']}\\n\")\n",
        "      found = True\n",
        "      break\n",
        "  if not found:\n",
        "    print(\"Student not found.\\n\")\n",
        "\n",
        "#function to find topper\n",
        "def find_topper():\n",
        "  if not students:\n",
        "    print(\"No Student Record Found.\\n\")\n",
        "    return\n",
        "  topper = max(students, key=lambda s: s[\"marks\"])\n",
        "  print(f\" Topper: {topper['name']} with {topper['marks']} Marks.\\n\")\n",
        "\n",
        "while True:\n",
        "  print(\"Student Record System\")\n",
        "  print(\"1. Add Student\")\n",
        "  print(\"2. Display All Students\")\n",
        "  print(\"3. Search Student by Name\")\n",
        "  print(\"4. Find Topper\")\n",
        "  print(\"5. Exit\")\n",
        "\n",
        "  choice = input(\"Enter Your Choice (1-5): \")\n",
        "\n",
        "  if choice == \"1\":\n",
        "    add_student()\n",
        "  elif choice == \"2\":\n",
        "    display_student()\n",
        "  elif choice == \"3\":\n",
        "    search_student()\n",
        "  elif choice == \"4\":\n",
        "    find_topper()\n",
        "  elif choice == \"5\":\n",
        "    print(\"Exiting ... goodbye!!\")\n",
        "    break\n",
        "  else:\n",
        "    print(\"Invalid Choice. Please try again.\\n\")"
      ]
    },
    {
      "cell_type": "code",
      "source": [
        "import csv\n",
        "import json\n",
        "import os"
      ],
      "metadata": {
        "id": "aRAiYl25RHCJ"
      },
      "execution_count": 1,
      "outputs": []
    },
    {
      "cell_type": "code",
      "source": [
        "students = []\n",
        "\n",
        "if os.path.exists(\"students.csv\"):\n",
        "  with open(\"students.csv\", \"r\") as file:\n",
        "    reader = csv,DictReader(file)\n",
        "    for row in reader:\n",
        "      students.append({\"name\": row[\"name\"]}, {\"marks\": float(row[\"marks\"])})"
      ],
      "metadata": {
        "id": "5i3fXFV-tlr4"
      },
      "execution_count": 2,
      "outputs": []
    },
    {
      "cell_type": "code",
      "source": [
        "def save_to_csv():\n",
        "  with open(\"students.csv\", \"w\", newline= \"\") as file:\n",
        "    writer = csv.DictWriter(file, fieldnames=[\"Name\", \"Mark\"])\n",
        "    writer.writeheader()\n",
        "    for s in students:\n",
        "      writer.writerow({\"Name\": s[\"Name\"]}, {\"Marks\": s[\"marks\"]})"
      ],
      "metadata": {
        "id": "GZBHlvJVu37p"
      },
      "execution_count": 3,
      "outputs": []
    },
    {
      "cell_type": "code",
      "source": [
        "def save_to_json():\n",
        "  with open(\"students_backup,json\", \"w\") as file:\n",
        "    json.dump(students, file)"
      ],
      "metadata": {
        "id": "8bQZMVtMwNxV"
      },
      "execution_count": 4,
      "outputs": []
    },
    {
      "cell_type": "code",
      "source": [
        "def add_student():\n",
        "  name = input(\"Enter the Student Name: \")\n",
        "  marks = float(input(\"Enter the Marks: \"))\n",
        "  students.append({\"name\": name, \"marks\": marks})\n",
        "  save_to_csv()\n",
        "  save_to_json()\n",
        "  print(\"Student Added Successfully!!/n\")"
      ],
      "metadata": {
        "id": "5rSC_TW1wp2r"
      },
      "execution_count": 7,
      "outputs": []
    },
    {
      "cell_type": "code",
      "source": [
        "def students_display():\n",
        "  if not students:\n",
        "    print(\"No Records Found.\\n\")\n",
        "    return\n",
        "  print(\"All Students Records: \")\n",
        "  for s in students:\n",
        "    print(f\"Name: {s['Name']}, Marks: {s['marks']}\")\n",
        "    print()"
      ],
      "metadata": {
        "id": "exZDxgRdx5JZ"
      },
      "execution_count": 9,
      "outputs": []
    },
    {
      "cell_type": "code",
      "source": [
        "def search_student():\n",
        "  search_name = input(\"Enter the Name to search: \")\n"
      ],
      "metadata": {
        "id": "IbtZ182LzpUP"
      },
      "execution_count": null,
      "outputs": []
    }
  ]
}